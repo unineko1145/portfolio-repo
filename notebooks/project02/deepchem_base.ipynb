{
 "cells": [
  {
   "cell_type": "code",
   "execution_count": 6,
   "id": "5af99e8c",
   "metadata": {},
   "outputs": [
    {
     "name": "stdout",
     "output_type": "stream",
     "text": [
      "Python: 3.10.18 | packaged by conda-forge | (main, Jun  4 2025, 14:42:04) [MSC v.1943 64 bit (AMD64)]\n",
      "Platform: Windows-10-10.0.26100-SP0\n",
      "DeepChem: 2.8.0\n",
      "RDKit: 2025.03.6\n",
      "NumPy: 2.2.6\n",
      "Pandas: 2.3.3\n"
     ]
    }
   ],
   "source": [
    "import sys,platform,os\n",
    "import numpy as np, pandas as pd\n",
    "import deepchem as dc\n",
    "import rdkit\n",
    "from rdkit import Chem\n",
    "\n",
    "print(\"Python:\",sys.version)\n",
    "print(\"Platform:\",platform.platform())\n",
    "print(\"DeepChem:\", dc.__version__)\n",
    "print(\"RDKit:\", rdkit.__version__)\n",
    "print(\"NumPy:\", np.__version__)\n",
    "print(\"Pandas:\", pd.__version__)"
   ]
  },
  {
   "cell_type": "code",
   "execution_count": 8,
   "id": "79484bdd",
   "metadata": {},
   "outputs": [
    {
     "name": "stdout",
     "output_type": "stream",
     "text": [
      "DeepChem version: 2.8.0\n",
      "Tox21データセットをロード中...\n"
     ]
    },
    {
     "name": "stderr",
     "output_type": "stream",
     "text": [
      "[17:12:45] WARNING: not removing hydrogen atom without neighbors\n",
      "Failed to featurize datapoint 255, [Hg+2]. Appending empty array\n",
      "Exception message: More than one atom should be present in the molecule for this featurizer to work.\n",
      "Failed to featurize datapoint 659, [Ba+2]. Appending empty array\n",
      "Exception message: More than one atom should be present in the molecule for this featurizer to work.\n",
      "Failed to featurize datapoint 985, [TlH2+]. Appending empty array\n",
      "Exception message: More than one atom should be present in the molecule for this featurizer to work.\n",
      "[17:13:02] Explicit valence for atom # 8 Al, 6, is greater than permitted\n",
      "Failed to featurize datapoint 1322, None. Appending empty array\n",
      "Exception message: Python argument types in\n",
      "    rdkit.Chem.rdmolfiles.CanonicalRankAtoms(NoneType)\n",
      "did not match C++ signature:\n",
      "    CanonicalRankAtoms(class RDKit::ROMol mol, bool breakTies=True, bool includeChirality=True, bool includeIsotopes=True, bool includeAtomMaps=True, bool includeChiralPresence=False)\n",
      "Failed to featurize datapoint 1423, [Cr+3]. Appending empty array\n",
      "Exception message: More than one atom should be present in the molecule for this featurizer to work.\n",
      "Failed to featurize datapoint 1534, [Fe+2]. Appending empty array\n",
      "Exception message: More than one atom should be present in the molecule for this featurizer to work.\n",
      "Failed to featurize datapoint 1722, [Co+2]. Appending empty array\n",
      "Exception message: More than one atom should be present in the molecule for this featurizer to work.\n",
      "Failed to featurize datapoint 1933, [PbH2+2]. Appending empty array\n",
      "Exception message: More than one atom should be present in the molecule for this featurizer to work.\n",
      "Failed to featurize datapoint 2147, [Fe+3]. Appending empty array\n",
      "Exception message: More than one atom should be present in the molecule for this featurizer to work.\n",
      "Failed to featurize datapoint 2251, [Cu+2]. Appending empty array\n",
      "Exception message: More than one atom should be present in the molecule for this featurizer to work.\n",
      "[17:13:13] Explicit valence for atom # 3 Al, 6, is greater than permitted\n",
      "Failed to featurize datapoint 2290, None. Appending empty array\n",
      "Exception message: Python argument types in\n",
      "    rdkit.Chem.rdmolfiles.CanonicalRankAtoms(NoneType)\n",
      "did not match C++ signature:\n",
      "    CanonicalRankAtoms(class RDKit::ROMol mol, bool breakTies=True, bool includeChirality=True, bool includeIsotopes=True, bool includeAtomMaps=True, bool includeChiralPresence=False)\n",
      "[17:13:13] Explicit valence for atom # 4 Al, 6, is greater than permitted\n",
      "Failed to featurize datapoint 2297, None. Appending empty array\n",
      "Exception message: Python argument types in\n",
      "    rdkit.Chem.rdmolfiles.CanonicalRankAtoms(NoneType)\n",
      "did not match C++ signature:\n",
      "    CanonicalRankAtoms(class RDKit::ROMol mol, bool breakTies=True, bool includeChirality=True, bool includeIsotopes=True, bool includeAtomMaps=True, bool includeChiralPresence=False)\n",
      "Failed to featurize datapoint 2760, [Cd+2]. Appending empty array\n",
      "Exception message: More than one atom should be present in the molecule for this featurizer to work.\n",
      "Failed to featurize datapoint 2832, [SnH2+2]. Appending empty array\n",
      "Exception message: More than one atom should be present in the molecule for this featurizer to work.\n",
      "[17:13:25] Explicit valence for atom # 4 Al, 6, is greater than permitted\n",
      "Failed to featurize datapoint 3558, None. Appending empty array\n",
      "Exception message: Python argument types in\n",
      "    rdkit.Chem.rdmolfiles.CanonicalRankAtoms(NoneType)\n",
      "did not match C++ signature:\n",
      "    CanonicalRankAtoms(class RDKit::ROMol mol, bool breakTies=True, bool includeChirality=True, bool includeIsotopes=True, bool includeAtomMaps=True, bool includeChiralPresence=False)\n",
      "Failed to featurize datapoint 4024, [Mn+2]. Appending empty array\n",
      "Exception message: More than one atom should be present in the molecule for this featurizer to work.\n",
      "Failed to featurize datapoint 4375, [Be+2]. Appending empty array\n",
      "Exception message: More than one atom should be present in the molecule for this featurizer to work.\n",
      "[17:13:34] Explicit valence for atom # 9 Al, 6, is greater than permitted\n",
      "Failed to featurize datapoint 4565, None. Appending empty array\n",
      "Exception message: Python argument types in\n",
      "    rdkit.Chem.rdmolfiles.CanonicalRankAtoms(NoneType)\n",
      "did not match C++ signature:\n",
      "    CanonicalRankAtoms(class RDKit::ROMol mol, bool breakTies=True, bool includeChirality=True, bool includeIsotopes=True, bool includeAtomMaps=True, bool includeChiralPresence=False)\n",
      "Failed to featurize datapoint 4611, [Zn+2]. Appending empty array\n",
      "Exception message: More than one atom should be present in the molecule for this featurizer to work.\n",
      "[17:13:35] Explicit valence for atom # 5 Al, 6, is greater than permitted\n",
      "Failed to featurize datapoint 4649, None. Appending empty array\n",
      "Exception message: Python argument types in\n",
      "    rdkit.Chem.rdmolfiles.CanonicalRankAtoms(NoneType)\n",
      "did not match C++ signature:\n",
      "    CanonicalRankAtoms(class RDKit::ROMol mol, bool breakTies=True, bool includeChirality=True, bool includeIsotopes=True, bool includeAtomMaps=True, bool includeChiralPresence=False)\n",
      "[17:13:44] Explicit valence for atom # 16 Al, 6, is greater than permitted\n",
      "Failed to featurize datapoint 5538, None. Appending empty array\n",
      "Exception message: Python argument types in\n",
      "    rdkit.Chem.rdmolfiles.CanonicalRankAtoms(NoneType)\n",
      "did not match C++ signature:\n",
      "    CanonicalRankAtoms(class RDKit::ROMol mol, bool breakTies=True, bool includeChirality=True, bool includeIsotopes=True, bool includeAtomMaps=True, bool includeChiralPresence=False)\n",
      "Failed to featurize datapoint 6547, [SbH6+3]. Appending empty array\n",
      "Exception message: More than one atom should be present in the molecule for this featurizer to work.\n",
      "Failed to featurize datapoint 6717, [Ni+2]. Appending empty array\n",
      "Exception message: More than one atom should be present in the molecule for this featurizer to work.\n",
      "[17:14:14] Explicit valence for atom # 20 Al, 6, is greater than permitted\n",
      "Failed to featurize datapoint 6723, None. Appending empty array\n",
      "Exception message: Python argument types in\n",
      "    rdkit.Chem.rdmolfiles.CanonicalRankAtoms(NoneType)\n",
      "did not match C++ signature:\n",
      "    CanonicalRankAtoms(class RDKit::ROMol mol, bool breakTies=True, bool includeChirality=True, bool includeIsotopes=True, bool includeAtomMaps=True, bool includeChiralPresence=False)\n",
      "Exception message: setting an array element with a sequence. The requested array has an inhomogeneous shape after 1 dimensions. The detected shape was (7831,) + inhomogeneous part.\n",
      "[17:14:43] WARNING: not removing hydrogen atom without neighbors\n"
     ]
    },
    {
     "name": "stdout",
     "output_type": "stream",
     "text": [
      "---\n",
      "データロード完了。\n",
      "学習用データセットのサンプル数: 6245\n",
      "予測対象のタスク数 (tasks): 12\n"
     ]
    }
   ],
   "source": [
    "import deepchem as dc\n",
    "from deepchem.molnet import load_tox21\n",
    "\n",
    "print(\"DeepChem version:\", dc.__version__)\n",
    "\n",
    "# 1) GraphConv 用のグラフ特徴量\n",
    "featurizer = dc.feat.MolGraphConvFeaturizer()\n",
    "\n",
    "# 2) MolNet ローダーで Tox21 を取得（scaffold split は文字列で指定）\n",
    "print(\"Tox21データセットをロード中...\")\n",
    "tasks, datasets, transformers = load_tox21(\n",
    "    featurizer=featurizer,\n",
    "    splitter=\"scaffold\",   # ← ここをオブジェクトではなく文字列に\n",
    "    reload=False\n",
    ")\n",
    "\n",
    "# 3) 分割済みデータを展開\n",
    "train_dataset, valid_dataset, test_dataset = datasets\n",
    "\n",
    "print(\"---\")\n",
    "print(\"データロード完了。\")\n",
    "print(f\"学習用データセットのサンプル数: {len(train_dataset)}\")\n",
    "print(f\"予測対象のタスク数 (tasks): {len(tasks)}\")\n"
   ]
  }
 ],
 "metadata": {
  "kernelspec": {
   "display_name": "Python (DeepChem)",
   "language": "python",
   "name": "deepchem_env"
  },
  "language_info": {
   "codemirror_mode": {
    "name": "ipython",
    "version": 3
   },
   "file_extension": ".py",
   "mimetype": "text/x-python",
   "name": "python",
   "nbconvert_exporter": "python",
   "pygments_lexer": "ipython3",
   "version": "3.10.18"
  }
 },
 "nbformat": 4,
 "nbformat_minor": 5
}
